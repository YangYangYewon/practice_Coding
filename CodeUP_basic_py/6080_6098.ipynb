{
 "cells": [
  {
   "cell_type": "code",
   "execution_count": 1,
   "id": "b99a02df",
   "metadata": {},
   "outputs": [
    {
     "name": "stdout",
     "output_type": "stream",
     "text": [
      "2 3\n",
      "1 1\n",
      "1 2\n",
      "1 3\n",
      "2 1\n",
      "2 2\n",
      "2 3\n"
     ]
    }
   ],
   "source": [
    "#6080\n",
    "a, b = input().split()\n",
    "a = int(a)\n",
    "b = int(b)\n",
    "for i in range(1, a+1):\n",
    "    for j in range(1, b+1):\n",
    "        print(i, j)"
   ]
  },
  {
   "cell_type": "code",
   "execution_count": 5,
   "id": "9330c404",
   "metadata": {},
   "outputs": [
    {
     "name": "stdout",
     "output_type": "stream",
     "text": [
      "B\n",
      "B*1=B\n",
      "B*2=16\n",
      "B*3=21\n",
      "B*4=2C\n",
      "B*5=37\n",
      "B*6=42\n",
      "B*7=4D\n",
      "B*8=58\n",
      "B*9=63\n",
      "B*A=6E\n",
      "B*B=79\n",
      "B*C=84\n",
      "B*D=8F\n",
      "B*E=9A\n",
      "B*F=A5\n"
     ]
    }
   ],
   "source": [
    "#6081\n",
    "a = input()\n",
    "a = int(a, 16)\n",
    "for i in range(1, 16):\n",
    "    print('%X'%a,'*%X'%i,'=%X'%(a*i), sep='')"
   ]
  },
  {
   "cell_type": "code",
   "execution_count": 9,
   "id": "e78dcf21",
   "metadata": {},
   "outputs": [
    {
     "name": "stdout",
     "output_type": "stream",
     "text": [
      "9\n",
      "1 2 X 4 5 X 7 8 X "
     ]
    }
   ],
   "source": [
    "#6082\n",
    "n = int(input())\n",
    "for i in range(1, n+1):\n",
    "    if i%10 != 0:\n",
    "        if(i%10)%3 == 0: \n",
    "            print('X', end=' ')\n",
    "        else:\n",
    "            print(i, end=' ')\n",
    "    else:\n",
    "        print(i, end=' ')"
   ]
  },
  {
   "cell_type": "code",
   "execution_count": 12,
   "id": "1fe99b60",
   "metadata": {},
   "outputs": [
    {
     "name": "stdout",
     "output_type": "stream",
     "text": [
      "2 2 2\n",
      "0 0 0\n",
      "0 0 1\n",
      "0 1 0\n",
      "0 1 1\n",
      "1 0 0\n",
      "1 0 1\n",
      "1 1 0\n",
      "1 1 1\n",
      "8\n"
     ]
    }
   ],
   "source": [
    "#6083\n",
    "a, b, c = input().split()\n",
    "a= int(a)\n",
    "b = int(b)\n",
    "c = int(c)\n",
    "sum=0\n",
    "for i in range(a):\n",
    "    for j in range(b):\n",
    "        for k in range(c):\n",
    "            print(i, j, k)\n",
    "            sum += 1\n",
    "print(sum)"
   ]
  },
  {
   "cell_type": "code",
   "execution_count": 16,
   "id": "6b614861",
   "metadata": {},
   "outputs": [
    {
     "name": "stdout",
     "output_type": "stream",
     "text": [
      "44100 16 2 10\n",
      "1.7 MB\n"
     ]
    }
   ],
   "source": [
    "#6084\n",
    "h, b, c, s = input().split()\n",
    "h= float(h)\n",
    "b = float(b)\n",
    "c = float(c)\n",
    "s = float(s)\n",
    "Mb = (h*b*c*s/8)/1024/1024\n",
    "print(format(Mb,'.1f'), 'MB')"
   ]
  },
  {
   "cell_type": "code",
   "execution_count": 1,
   "id": "c6c98464",
   "metadata": {},
   "outputs": [
    {
     "name": "stdout",
     "output_type": "stream",
     "text": [
      "1024 768 24\n",
      "2.25 MB\n"
     ]
    }
   ],
   "source": [
    "#6085\n",
    "w, h, b = input().split()\n",
    "w = float(w)\n",
    "h= float(h)\n",
    "b = float(b)\n",
    "MB = (w*h*b/8)/1024/1024\n",
    "print(format(MB,'.2f'), 'MB')"
   ]
  },
  {
   "cell_type": "code",
   "execution_count": 2,
   "id": "049058d4",
   "metadata": {},
   "outputs": [
    {
     "name": "stdout",
     "output_type": "stream",
     "text": [
      "57\n",
      "66\n"
     ]
    }
   ],
   "source": [
    "#6086\n",
    "n= int(input())\n",
    "i=0\n",
    "sum=0\n",
    "while True:\n",
    "    sum+=i\n",
    "    i+=1\n",
    "    if(sum>=n):\n",
    "        break\n",
    "print(sum)"
   ]
  },
  {
   "cell_type": "code",
   "execution_count": 3,
   "id": "86a85456",
   "metadata": {},
   "outputs": [
    {
     "name": "stdout",
     "output_type": "stream",
     "text": [
      "10\n",
      "1 2 4 5 7 8 10 "
     ]
    }
   ],
   "source": [
    "#6087\n",
    "n= int(input())\n",
    "for i in range(1, n+1):\n",
    "    if i%3 == 0:\n",
    "        continue\n",
    "    else:\n",
    "        print(i, end=' ')"
   ]
  },
  {
   "cell_type": "code",
   "execution_count": 7,
   "id": "5a06bdcc",
   "metadata": {},
   "outputs": [
    {
     "name": "stdout",
     "output_type": "stream",
     "text": [
      "1 3 5\n",
      "13\n"
     ]
    }
   ],
   "source": [
    "#6088\n",
    "a, d, n = input().split()\n",
    "a = int(a)\n",
    "d = int(d)\n",
    "n = int(n)\n",
    "for i in range(1, n):\n",
    "    a = a + d\n",
    "print(a)"
   ]
  },
  {
   "cell_type": "code",
   "execution_count": 8,
   "id": "8249c9f6",
   "metadata": {},
   "outputs": [
    {
     "name": "stdout",
     "output_type": "stream",
     "text": [
      "2 3 7\n",
      "1458\n"
     ]
    }
   ],
   "source": [
    "#6089\n",
    "a, r, n = input().split()\n",
    "a = int(a)\n",
    "r = int(r)\n",
    "n = int(n)\n",
    "for i in range(1, n):\n",
    "    a = a * r\n",
    "print(a)"
   ]
  },
  {
   "cell_type": "code",
   "execution_count": 9,
   "id": "97371e70",
   "metadata": {},
   "outputs": [
    {
     "name": "stdout",
     "output_type": "stream",
     "text": [
      "1 -2 1 8\n",
      "-85\n"
     ]
    }
   ],
   "source": [
    "#6090\n",
    "a, m, d, n = input().split()\n",
    "a = int(a)\n",
    "m = int(m)\n",
    "d = int(d)\n",
    "n = int(n)\n",
    "for i in range(1, n):\n",
    "    a = (a*m) + d\n",
    "print(a)"
   ]
  },
  {
   "cell_type": "code",
   "execution_count": 11,
   "id": "f089531d",
   "metadata": {},
   "outputs": [
    {
     "name": "stdout",
     "output_type": "stream",
     "text": [
      "3 7 9\n",
      "3\n"
     ]
    }
   ],
   "source": [
    "#6091\n",
    "a, b, c = input().split()\n",
    "a= int(a)\n",
    "b = int(b)\n",
    "c = int(c)\n",
    "d = 1\n",
    "while d%a!=0 or d%b!=0 or d%c!=0 :\n",
    "    d += 1\n",
    "print(d)"
   ]
  },
  {
   "cell_type": "code",
   "execution_count": 12,
   "id": "77e227a7",
   "metadata": {},
   "outputs": [
    {
     "name": "stdout",
     "output_type": "stream",
     "text": [
      "10\n",
      "1 3 2 2 5 6 7 4 5 9\n",
      "1 2 1 1 2 1 1 0 1 0 0 0 0 0 0 0 0 0 0 0 0 0 0 "
     ]
    }
   ],
   "source": [
    "#6092\n",
    "n = int(input())\n",
    "a = input().split()\n",
    "\n",
    "for i in range(n) :\n",
    "    a[i] = int(a[i])\n",
    "\n",
    "d = []\n",
    "for i in range(24) :\n",
    "    d.append(0)\n",
    "\n",
    "for i in range(n) :\n",
    "    d[a[i]] += 1\n",
    "\n",
    "for i in range(1, 24) :\n",
    "    print(d[i], end=' ')"
   ]
  },
  {
   "cell_type": "code",
   "execution_count": 13,
   "id": "0774ecbe",
   "metadata": {},
   "outputs": [
    {
     "name": "stdout",
     "output_type": "stream",
     "text": [
      "10\n",
      "10 4 2 3 6 6 7 9 8 5\n",
      "5 8 9 7 6 6 3 2 4 10 "
     ]
    }
   ],
   "source": [
    "#6093\n",
    "n = int(input())\n",
    "a = input().split()\n",
    "for i in range(n-1, -1, -1):\n",
    "    print(a[i], end=' ')"
   ]
  },
  {
   "cell_type": "code",
   "execution_count": 22,
   "id": "6e879f21",
   "metadata": {},
   "outputs": [
    {
     "name": "stdout",
     "output_type": "stream",
     "text": [
      "10\n",
      "10 4 2 3 6 6 7 9 8 5\n",
      "2\n"
     ]
    }
   ],
   "source": [
    "#6094\n",
    "num = int(input())\n",
    "numlist = map(int, input().split())\n",
    "\n",
    "a = min(numlist)\n",
    "print(a)"
   ]
  },
  {
   "cell_type": "code",
   "execution_count": 24,
   "id": "41af6e27",
   "metadata": {},
   "outputs": [
    {
     "name": "stdout",
     "output_type": "stream",
     "text": [
      "5\n",
      "1 1\n",
      "2 2\n",
      "3 3\n",
      "4 4\n",
      "5 5\n",
      "1 0 0 0 0 0 0 0 0 0 0 0 0 0 0 0 0 0 0 \n",
      "0 1 0 0 0 0 0 0 0 0 0 0 0 0 0 0 0 0 0 \n",
      "0 0 1 0 0 0 0 0 0 0 0 0 0 0 0 0 0 0 0 \n",
      "0 0 0 1 0 0 0 0 0 0 0 0 0 0 0 0 0 0 0 \n",
      "0 0 0 0 1 0 0 0 0 0 0 0 0 0 0 0 0 0 0 \n",
      "0 0 0 0 0 0 0 0 0 0 0 0 0 0 0 0 0 0 0 \n",
      "0 0 0 0 0 0 0 0 0 0 0 0 0 0 0 0 0 0 0 \n",
      "0 0 0 0 0 0 0 0 0 0 0 0 0 0 0 0 0 0 0 \n",
      "0 0 0 0 0 0 0 0 0 0 0 0 0 0 0 0 0 0 0 \n",
      "0 0 0 0 0 0 0 0 0 0 0 0 0 0 0 0 0 0 0 \n",
      "0 0 0 0 0 0 0 0 0 0 0 0 0 0 0 0 0 0 0 \n",
      "0 0 0 0 0 0 0 0 0 0 0 0 0 0 0 0 0 0 0 \n",
      "0 0 0 0 0 0 0 0 0 0 0 0 0 0 0 0 0 0 0 \n",
      "0 0 0 0 0 0 0 0 0 0 0 0 0 0 0 0 0 0 0 \n",
      "0 0 0 0 0 0 0 0 0 0 0 0 0 0 0 0 0 0 0 \n",
      "0 0 0 0 0 0 0 0 0 0 0 0 0 0 0 0 0 0 0 \n",
      "0 0 0 0 0 0 0 0 0 0 0 0 0 0 0 0 0 0 0 \n",
      "0 0 0 0 0 0 0 0 0 0 0 0 0 0 0 0 0 0 0 \n",
      "0 0 0 0 0 0 0 0 0 0 0 0 0 0 0 0 0 0 0 \n"
     ]
    }
   ],
   "source": [
    "#6095\n",
    "d=[]\n",
    "for i in range(20) :\n",
    "    d.append([])\n",
    "    for j in range(20) : \n",
    "        d[i].append(0)\n",
    "\n",
    "n = int(input())\n",
    "for i in range(n) :\n",
    "    x, y = input().split()\n",
    "    d[int(x)][int(y)] = 1\n",
    "\n",
    "for i in range(1, 20) :\n",
    "    for j in range(1, 20) : \n",
    "        print(d[i][j], end=' ')\n",
    "    print()"
   ]
  },
  {
   "cell_type": "code",
   "execution_count": null,
   "id": "db5e6054",
   "metadata": {},
   "outputs": [],
   "source": [
    "#6096\n",
    "d=[]\n",
    "for i in range(20) :\n",
    "    d.append([])\n",
    "    for j in range(20) : \n",
    "        d[i].append(0)\n",
    "\n",
    "for i in range(19) :\n",
    "    a = input().split()\n",
    "    for j in range(19) :\n",
    "        d[i+1][j+1] = int(a[j])\n",
    "\n",
    "n = int(input())\n",
    "for i in range(n) :\n",
    "    x,y=input().split()\n",
    "    x=int(x)\n",
    "    y=int(y)\n",
    "    for j in range(1, 20) :\n",
    "        if d[j][y]==0 :\n",
    "            d[j][y]=1\n",
    "        else :\n",
    "            d[j][y]=0\n",
    "\n",
    "        if d[x][j]==0 :\n",
    "            d[x][j]=1\n",
    "        else :\n",
    "            d[x][j]=0\n",
    "\n",
    "for i in range(1, 20) :\n",
    "    for j in range(1, 20) :\n",
    "        print(d[i][j], end=' ')\n",
    "    print()"
   ]
  },
  {
   "cell_type": "code",
   "execution_count": 25,
   "id": "14961019",
   "metadata": {},
   "outputs": [
    {
     "name": "stdout",
     "output_type": "stream",
     "text": [
      "5 5\n",
      "3\n",
      "2 0 1 1\n",
      "3 1 2 3\n",
      "4 1 2 5\n",
      "1 1 0 0 0 \n",
      "0 0 1 0 1 \n",
      "0 0 1 0 1 \n",
      "0 0 1 0 1 \n",
      "0 0 0 0 1 \n"
     ]
    }
   ],
   "source": [
    "#6097\n",
    "h,w = input().split()\n",
    "h = int(h)\n",
    "w = int(w)\n",
    "\n",
    "m = []\n",
    "for i in range(h+1) :\n",
    "    m.append([])\n",
    "    for j in range(w+1) :\n",
    "        m[i].append(0)\n",
    "\n",
    "n = int(input())\n",
    "for i in range(n) :\n",
    "    l,d,x,y = input().split()\n",
    "    if int(d)==0 :\n",
    "        for j in range(int(l)) :\n",
    "            m[int(x)][int(y)+j] = 1\n",
    "    else :\n",
    "        for j in range(int(l)) :\n",
    "            m[int(x)+j][int(y)] = 1\n",
    "\n",
    "for i in range(1, h+1) :\n",
    "    for j in range(1, w+1) :\n",
    "        print(m[i][j], end=' ')\n",
    "    print()"
   ]
  },
  {
   "cell_type": "code",
   "execution_count": null,
   "id": "b50252b5",
   "metadata": {},
   "outputs": [],
   "source": [
    "#6098\n",
    "m=[]\n",
    "for i in range(12) :\n",
    "    m.append([])\n",
    "    for j in range(12) :\n",
    "        m[i].append(0)\n",
    "\n",
    "for i in range(10) :\n",
    "    a=input().split()\n",
    "    for j in range(10) :\n",
    "        m[i+1][j+1]=int(a[j])\n",
    "\n",
    "x = 2\n",
    "y = 2\n",
    "while True :\n",
    "    if m[x][y] == 0 :\n",
    "        m[x][y] = 9\n",
    "    elif m[x][y] == 2 :\n",
    "        m[x][y] = 9\n",
    "        break\n",
    "\n",
    "    if (m[x][y+1]==1 and m[x+1][y]==1) or (x==9 and y==9) :\n",
    "        break\n",
    "\n",
    "    if m[x][y+1] != 1 :\n",
    "        y += 1\n",
    "    elif m[x+1][y] != 1 :\n",
    "        x += 1\n",
    "    \n",
    "\n",
    "for i in range(1, 11) :\n",
    "    for j in range(1, 11) :\n",
    "        print(m[i][j], end=' ')\n",
    "    print()"
   ]
  }
 ],
 "metadata": {
  "kernelspec": {
   "display_name": "Python 3 (ipykernel)",
   "language": "python",
   "name": "python3"
  },
  "language_info": {
   "codemirror_mode": {
    "name": "ipython",
    "version": 3
   },
   "file_extension": ".py",
   "mimetype": "text/x-python",
   "name": "python",
   "nbconvert_exporter": "python",
   "pygments_lexer": "ipython3",
   "version": "3.9.12"
  }
 },
 "nbformat": 4,
 "nbformat_minor": 5
}

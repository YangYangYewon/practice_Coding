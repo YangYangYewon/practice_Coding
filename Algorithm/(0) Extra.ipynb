{
 "cells": [
  {
   "cell_type": "markdown",
   "id": "16fec369",
   "metadata": {},
   "source": [
    "# 수행 시간 측정 소스코드"
   ]
  },
  {
   "cell_type": "code",
   "execution_count": null,
   "id": "7a42b034",
   "metadata": {},
   "outputs": [],
   "source": [
    "import time\n",
    "\n",
    "start_time = time.time()\n",
    "\n",
    "# TEST CODE\n",
    "\n",
    "end_time = time.time()\n",
    "\n",
    "print(\"time : \", end_time - start_time)"
   ]
  }
 ],
 "metadata": {
  "kernelspec": {
   "display_name": "Python 3 (ipykernel)",
   "language": "python",
   "name": "python3"
  },
  "language_info": {
   "codemirror_mode": {
    "name": "ipython",
    "version": 3
   },
   "file_extension": ".py",
   "mimetype": "text/x-python",
   "name": "python",
   "nbconvert_exporter": "python",
   "pygments_lexer": "ipython3",
   "version": "3.9.12"
  }
 },
 "nbformat": 4,
 "nbformat_minor": 5
}

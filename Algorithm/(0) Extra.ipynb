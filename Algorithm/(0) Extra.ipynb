{
 "cells": [
  {
   "cell_type": "markdown",
   "id": "16fec369",
   "metadata": {},
   "source": [
    "# 수행 시간 측정 소스코드"
   ]
  },
  {
   "cell_type": "code",
   "execution_count": 1,
   "id": "7a42b034",
   "metadata": {},
   "outputs": [
    {
     "name": "stdout",
     "output_type": "stream",
     "text": [
      "time :  0.0\n"
     ]
    }
   ],
   "source": [
    "import time\n",
    "\n",
    "start_time = time.time()\n",
    "\n",
    "# TEST CODE\n",
    "\n",
    "end_time = time.time()\n",
    "\n",
    "print(\"time : \", end_time - start_time)"
   ]
  },
  {
   "cell_type": "markdown",
   "id": "feb9931d",
   "metadata": {},
   "source": [
    "# 언더스코어(_)"
   ]
  },
  {
   "cell_type": "markdown",
   "id": "7d37f7b9",
   "metadata": {},
   "source": [
    "1. 인터프리터에서 사용되는 경우  \n",
    "  \n",
    "2. __값을 무시하고 싶은 경우__  \n",
    "  \n",
    "> ex) for _ in range(N)\n",
    "\n",
    "3. 특별한 의미의 네이밍을 하는 경우  \n",
    "  \n",
    "4. 국제화(i18n)/지역화(I10n)함수로 사용되는 경우  \n",
    "  \n",
    "5. 숫자 리터럴 값의 자릿수 구분을 위한 구분자로써 사용할 때  \n",
    "  \n",
    "\n",
    "출처 : https://mingrammer.com/underscore-in-python/"
   ]
  }
 ],
 "metadata": {
  "kernelspec": {
   "display_name": "Python 3 (ipykernel)",
   "language": "python",
   "name": "python3"
  },
  "language_info": {
   "codemirror_mode": {
    "name": "ipython",
    "version": 3
   },
   "file_extension": ".py",
   "mimetype": "text/x-python",
   "name": "python",
   "nbconvert_exporter": "python",
   "pygments_lexer": "ipython3",
   "version": "3.9.12"
  }
 },
 "nbformat": 4,
 "nbformat_minor": 5
}

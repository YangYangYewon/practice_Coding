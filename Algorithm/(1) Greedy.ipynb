{
 "cells": [
  {
   "cell_type": "markdown",
   "id": "c8b67e72",
   "metadata": {},
   "source": [
    "# Greedy\n",
    "\n",
    "### :  '현재 상황에서 지금 당장 좋은 것만 고르는 방법'"
   ]
  },
  {
   "cell_type": "markdown",
   "id": "1f096768",
   "metadata": {},
   "source": [
    "### 큰 수의 법칙"
   ]
  },
  {
   "cell_type": "code",
   "execution_count": 4,
   "id": "f6aaae1c",
   "metadata": {},
   "outputs": [
    {
     "name": "stdout",
     "output_type": "stream",
     "text": [
      "5 8 3\n",
      "2 4 5 4 6\n",
      "46\n"
     ]
    }
   ],
   "source": [
    "N, M, K = map(int, input().split())\n",
    "numbers = list(map(int, input().split()))\n",
    "\n",
    "numbers.sort()\n",
    "first_num = numbers[N-1]\n",
    "second_num = numbers[N-2]\n",
    "\n",
    "result = 0\n",
    "\n",
    "while True:\n",
    "    for i in range(K):\n",
    "        if M == 0:\n",
    "            break\n",
    "        result += first_num\n",
    "        M -= 1\n",
    "    if M == 0:\n",
    "        break\n",
    "    result += second_num\n",
    "    M -= 1\n",
    "\n",
    "print(result)"
   ]
  },
  {
   "cell_type": "markdown",
   "id": "ef56e250",
   "metadata": {},
   "source": [
    "### 숫자 카드 게임"
   ]
  },
  {
   "cell_type": "code",
   "execution_count": 5,
   "id": "b7cb9c43",
   "metadata": {},
   "outputs": [
    {
     "name": "stdout",
     "output_type": "stream",
     "text": [
      "3 3\n",
      "3 1 2\n",
      "4 1 4\n",
      "2 2 2\n",
      "2\n"
     ]
    }
   ],
   "source": [
    "N, M = map(int, input().split())\n",
    "\n",
    "result = 0\n",
    "\n",
    "for i in range(N):\n",
    "    numbers = list(map(int, input().split()))\n",
    "    min_number = min(numbers)\n",
    "    result = max(result, min_number)\n",
    "    \n",
    "print(result)"
   ]
  },
  {
   "cell_type": "markdown",
   "id": "79230c24",
   "metadata": {},
   "source": [
    "### 1이 될 때까지"
   ]
  },
  {
   "cell_type": "code",
   "execution_count": 6,
   "id": "56cfc1f1",
   "metadata": {},
   "outputs": [
    {
     "name": "stdout",
     "output_type": "stream",
     "text": [
      "25 5\n",
      "2\n"
     ]
    }
   ],
   "source": [
    "N, K = map(int, input().split())\n",
    "result = 0\n",
    "\n",
    "while N >= K:\n",
    "    while N % K != 0:\n",
    "        N -= 1\n",
    "        result += 1\n",
    "        \n",
    "    N //= K\n",
    "    result += 1\n",
    "    \n",
    "while N > 1:\n",
    "    n -= 1\n",
    "    result += 1\n",
    "    \n",
    "print(result)"
   ]
  }
 ],
 "metadata": {
  "kernelspec": {
   "display_name": "Python 3 (ipykernel)",
   "language": "python",
   "name": "python3"
  },
  "language_info": {
   "codemirror_mode": {
    "name": "ipython",
    "version": 3
   },
   "file_extension": ".py",
   "mimetype": "text/x-python",
   "name": "python",
   "nbconvert_exporter": "python",
   "pygments_lexer": "ipython3",
   "version": "3.9.12"
  }
 },
 "nbformat": 4,
 "nbformat_minor": 5
}

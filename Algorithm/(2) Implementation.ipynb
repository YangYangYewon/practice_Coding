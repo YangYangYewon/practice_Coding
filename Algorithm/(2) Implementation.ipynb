{
 "cells": [
  {
   "cell_type": "markdown",
   "id": "0694240b",
   "metadata": {},
   "source": [
    "### 상하좌우"
   ]
  },
  {
   "cell_type": "code",
   "execution_count": 3,
   "id": "9f9a6c7e",
   "metadata": {},
   "outputs": [
    {
     "name": "stdout",
     "output_type": "stream",
     "text": [
      "5\n",
      "R R R U D D\n",
      "3 4\n"
     ]
    }
   ],
   "source": [
    "x, y = 1, 1\n",
    "\n",
    "N = int(input())\n",
    "direction = input().split()\n",
    "\n",
    "# L, R, U, D\n",
    "dx = [0, 0, -1, 1]\n",
    "dy = [-1, 1, 0, 0]\n",
    "types = ['L', 'R', 'U', 'D']\n",
    "\n",
    "for dir in direction:\n",
    "    for i in range(len(types)):\n",
    "        if dir == types[i]:\n",
    "            nx = x + dx[i]\n",
    "            ny = y + dy[i]\n",
    "    if nx < 1 or ny < 1 or nx > N or ny > N:\n",
    "        continue\n",
    "    x, y = nx, ny\n",
    "\n",
    "print(x, y)"
   ]
  },
  {
   "cell_type": "markdown",
   "id": "97955657",
   "metadata": {},
   "source": [
    "### 왕실의 나이트"
   ]
  },
  {
   "cell_type": "code",
   "execution_count": 5,
   "id": "da426038",
   "metadata": {
    "scrolled": true
   },
   "outputs": [
    {
     "name": "stdout",
     "output_type": "stream",
     "text": [
      "a1\n",
      "2\n"
     ]
    }
   ],
   "source": [
    "first = input()\n",
    "\n",
    "count = 0\n",
    "\n",
    "row = int(first[1])\n",
    "column = ord(first[0])-ord('a')+1\n",
    "\n",
    "moving = [(1,2), (2,1), (-1, 2), (2, -1), (1, -2), (-2, 1), (-1, -2), (-2, -1)]\n",
    "\n",
    "for moves in moving:\n",
    "    x = row + moves[0]\n",
    "    y = column + moves[1]\n",
    "    \n",
    "    if x >=1 and x <=8 and y >=1 and y <=8:\n",
    "        count += 1\n",
    "        \n",
    "print(count)"
   ]
  },
  {
   "cell_type": "markdown",
   "id": "569634c9",
   "metadata": {},
   "source": [
    "### 게임 개발"
   ]
  },
  {
   "cell_type": "code",
   "execution_count": 42,
   "id": "35148484",
   "metadata": {},
   "outputs": [
    {
     "name": "stdout",
     "output_type": "stream",
     "text": [
      "4 4\n",
      "1 1 0\n",
      "1 1 1 1\n",
      "1 0 0 1\n",
      "1 1 0 1\n",
      "1 1 1 1\n",
      "3\n"
     ]
    }
   ],
   "source": [
    "N, M = map(int, input().split())\n",
    "x, y, direction = map(int, input().split())\n",
    "\n",
    "maps = []\n",
    "for i in range(N):\n",
    "    maps.append(list(map(int, input().split())))\n",
    "\n",
    "moving_maps = [[0] *M for _ in range(N)]\n",
    "moving_maps[x][y] = 1\n",
    "\n",
    "# 북(0), 동(!), 남(2), 서(3)\n",
    "dx = [-1, 0, 1, 0]\n",
    "dy = [0, 1, 0 ,-1]\n",
    "\n",
    "def turn_left():\n",
    "    global direction\n",
    "    direction -= 1\n",
    "    if direction == -1:\n",
    "        direction = 3\n",
    "        \n",
    "count = 1\n",
    "turn_count = 0\n",
    "\n",
    "while True:\n",
    "    turn_left()\n",
    "    nx = x + dx[direction]\n",
    "    ny = y + dy[direction]\n",
    "    \n",
    "    if moving_maps[nx][ny] == 0 and maps[nx][ny] == 0:\n",
    "        moving_maps[nx][ny] = 1\n",
    "        x = nx\n",
    "        y = ny\n",
    "        count += 1\n",
    "        turn_count = 0\n",
    "        continue\n",
    "    else:\n",
    "        turn_count += 1\n",
    "    \n",
    "    if turn_count == 4:\n",
    "        nx = x - dx[direction]\n",
    "        ny = y - dy[direction]\n",
    "        if maps[nx][ny] == 0:\n",
    "            x = nx\n",
    "            y = ny\n",
    "        else:\n",
    "            break\n",
    "        turn_count = 0\n",
    "        \n",
    "print(count)"
   ]
  }
 ],
 "metadata": {
  "kernelspec": {
   "display_name": "Python 3 (ipykernel)",
   "language": "python",
   "name": "python3"
  },
  "language_info": {
   "codemirror_mode": {
    "name": "ipython",
    "version": 3
   },
   "file_extension": ".py",
   "mimetype": "text/x-python",
   "name": "python",
   "nbconvert_exporter": "python",
   "pygments_lexer": "ipython3",
   "version": "3.9.12"
  }
 },
 "nbformat": 4,
 "nbformat_minor": 5
}

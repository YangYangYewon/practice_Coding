{
 "cells": [
  {
   "cell_type": "markdown",
   "id": "45200a9f",
   "metadata": {},
   "source": [
    "## 이것이 취업을 위한 코딩 테스트다(with python)"
   ]
  },
  {
   "cell_type": "markdown",
   "id": "71a4b5eb",
   "metadata": {},
   "source": [
    "### 01 모험가 길드"
   ]
  },
  {
   "cell_type": "code",
   "execution_count": 26,
   "id": "edb0de99",
   "metadata": {},
   "outputs": [
    {
     "name": "stdout",
     "output_type": "stream",
     "text": [
      "5\n",
      "2 3 1 2 2\n",
      "2\n"
     ]
    }
   ],
   "source": [
    "n = int(input())\n",
    "\n",
    "members = list(map(int, input().split()))\n",
    "members.sort()\n",
    "\n",
    "group = 0\n",
    "number = 0\n",
    "\n",
    "for i in members:\n",
    "    number += 1\n",
    "    if number >= i:\n",
    "        group += 1\n",
    "        number = 0\n",
    "    \n",
    "print(group)"
   ]
  },
  {
   "cell_type": "markdown",
   "id": "ab0c287b",
   "metadata": {},
   "source": [
    "> 소요시간 : 40 minutes"
   ]
  },
  {
   "cell_type": "markdown",
   "id": "c336b344",
   "metadata": {},
   "source": [
    "### 02 곱하기 혹은 더하기"
   ]
  },
  {
   "cell_type": "code",
   "execution_count": 58,
   "id": "9fcac80c",
   "metadata": {},
   "outputs": [
    {
     "name": "stdout",
     "output_type": "stream",
     "text": [
      "567\n",
      "210\n"
     ]
    }
   ],
   "source": [
    "s = input()\n",
    "\n",
    "first = int(s[0])\n",
    "\n",
    "for i in range(1, len(s)):\n",
    "    number = int(s[i])\n",
    "    if number <= 1 or first <= 1:\n",
    "        first += number\n",
    "    else:\n",
    "        first *= number\n",
    "    \n",
    "print(first)        "
   ]
  },
  {
   "cell_type": "markdown",
   "id": "60fa9e57",
   "metadata": {},
   "source": [
    "> 소요시간 : 25 minutes"
   ]
  },
  {
   "cell_type": "markdown",
   "id": "f7b733b9",
   "metadata": {},
   "source": [
    "### 03 문자열 뒤집기"
   ]
  },
  {
   "cell_type": "code",
   "execution_count": 9,
   "id": "83408732",
   "metadata": {},
   "outputs": [
    {
     "name": "stdout",
     "output_type": "stream",
     "text": [
      "0001100\n",
      "1\n"
     ]
    }
   ],
   "source": [
    "# MY ANSWER\n",
    "\n",
    "s = input()\n",
    "\n",
    "first = s[0]\n",
    "count = 0\n",
    "result = 0\n",
    "\n",
    "for i in range(1, len(s)):\n",
    "    if first != s[i]:\n",
    "        count += 1\n",
    "        first = s[i]\n",
    "\n",
    "if count % 2 == 0:\n",
    "    result = count / 2\n",
    "else :\n",
    "    result = (count+1)/ 2\n",
    "    \n",
    "print(int(result))"
   ]
  },
  {
   "cell_type": "code",
   "execution_count": 10,
   "id": "b4d60fe1",
   "metadata": {},
   "outputs": [
    {
     "name": "stdout",
     "output_type": "stream",
     "text": [
      "0001100\n",
      "1\n"
     ]
    }
   ],
   "source": [
    "# Example\n",
    "\n",
    "data = input()\n",
    "\n",
    "count0 = 0\n",
    "count1 = 1\n",
    "\n",
    "if data[0] == '1':\n",
    "    count0 += 1\n",
    "else:\n",
    "    count += 1\n",
    "    \n",
    "for i in range(len(data)-1):\n",
    "    if data[i] != data[i+1]:\n",
    "        if data[i+1] == '1':\n",
    "            count0 += 1\n",
    "        else:\n",
    "            count += 1\n",
    "            \n",
    "print(min (count0, count1))"
   ]
  },
  {
   "cell_type": "markdown",
   "id": "156d3b41",
   "metadata": {},
   "source": [
    "> 소요시간 : 25 minutes  \n",
    "> 접근법이 처음으로 동일! :)"
   ]
  },
  {
   "cell_type": "markdown",
   "id": "8e3c18c9",
   "metadata": {},
   "source": [
    "### 04 만들 수 없는 금액"
   ]
  },
  {
   "cell_type": "code",
   "execution_count": null,
   "id": "89537992",
   "metadata": {},
   "outputs": [],
   "source": [
    "n =int(input())\n",
    "numbers = list(map(int, input().split()))\n",
    "\n",
    "numbers.sort()\n",
    "\n",
    "result = 0\n",
    "\n",
    "for i in range(sum(numbers)):\n",
    "    \n",
    "    "
   ]
  }
 ],
 "metadata": {
  "kernelspec": {
   "display_name": "Python 3 (ipykernel)",
   "language": "python",
   "name": "python3"
  },
  "language_info": {
   "codemirror_mode": {
    "name": "ipython",
    "version": 3
   },
   "file_extension": ".py",
   "mimetype": "text/x-python",
   "name": "python",
   "nbconvert_exporter": "python",
   "pygments_lexer": "ipython3",
   "version": "3.9.12"
  }
 },
 "nbformat": 4,
 "nbformat_minor": 5
}

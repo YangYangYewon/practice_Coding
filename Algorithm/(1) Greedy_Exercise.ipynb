{
 "cells": [
  {
   "cell_type": "markdown",
   "id": "45200a9f",
   "metadata": {},
   "source": [
    "## 이것이 취업을 위한 코딩 테스트다(with python)"
   ]
  },
  {
   "cell_type": "markdown",
   "id": "71a4b5eb",
   "metadata": {},
   "source": [
    "### 01 모험가 길드"
   ]
  },
  {
   "cell_type": "code",
   "execution_count": 26,
   "id": "edb0de99",
   "metadata": {},
   "outputs": [
    {
     "name": "stdout",
     "output_type": "stream",
     "text": [
      "5\n",
      "2 3 1 2 2\n",
      "2\n"
     ]
    }
   ],
   "source": [
    "n = int(input())\n",
    "\n",
    "members = list(map(int, input().split()))\n",
    "members.sort()\n",
    "\n",
    "group = 0\n",
    "number = 0\n",
    "\n",
    "for i in members:\n",
    "    number += 1\n",
    "    if number >= i:\n",
    "        group += 1\n",
    "        number = 0\n",
    "    \n",
    "print(group)"
   ]
  },
  {
   "cell_type": "markdown",
   "id": "ab0c287b",
   "metadata": {},
   "source": [
    "> 소요시간 : 40 minutes"
   ]
  },
  {
   "cell_type": "markdown",
   "id": "c336b344",
   "metadata": {},
   "source": [
    "### 02 곱하기 혹은 더하기"
   ]
  },
  {
   "cell_type": "code",
   "execution_count": 58,
   "id": "9fcac80c",
   "metadata": {},
   "outputs": [
    {
     "name": "stdout",
     "output_type": "stream",
     "text": [
      "567\n",
      "210\n"
     ]
    }
   ],
   "source": [
    "s = input()\n",
    "\n",
    "first = int(s[0])\n",
    "\n",
    "for i in range(1, len(s)):\n",
    "    number = int(s[i])\n",
    "    if number <= 1 or first <= 1:\n",
    "        first += number\n",
    "    else:\n",
    "        first *= number\n",
    "    \n",
    "print(first)        "
   ]
  },
  {
   "cell_type": "markdown",
   "id": "60fa9e57",
   "metadata": {},
   "source": [
    "> 소요시간 : 25 minutes"
   ]
  },
  {
   "cell_type": "markdown",
   "id": "f7b733b9",
   "metadata": {},
   "source": [
    "### 03 문자열 뒤집기"
   ]
  },
  {
   "cell_type": "code",
   "execution_count": 9,
   "id": "83408732",
   "metadata": {},
   "outputs": [
    {
     "name": "stdout",
     "output_type": "stream",
     "text": [
      "0001100\n",
      "1\n"
     ]
    }
   ],
   "source": [
    "# MY ANSWER\n",
    "\n",
    "s = input()\n",
    "\n",
    "first = s[0]\n",
    "count = 0\n",
    "result = 0\n",
    "\n",
    "for i in range(1, len(s)):\n",
    "    if first != s[i]:\n",
    "        count += 1\n",
    "        first = s[i]\n",
    "\n",
    "if count % 2 == 0:\n",
    "    result = count / 2\n",
    "else :\n",
    "    result = (count+1)/ 2\n",
    "    \n",
    "print(int(result))"
   ]
  },
  {
   "cell_type": "code",
   "execution_count": 10,
   "id": "b4d60fe1",
   "metadata": {},
   "outputs": [
    {
     "name": "stdout",
     "output_type": "stream",
     "text": [
      "0001100\n",
      "1\n"
     ]
    }
   ],
   "source": [
    "# Example\n",
    "\n",
    "data = input()\n",
    "\n",
    "count0 = 0\n",
    "count1 = 1\n",
    "\n",
    "if data[0] == '1':\n",
    "    count0 += 1\n",
    "else:\n",
    "    count += 1\n",
    "    \n",
    "for i in range(len(data)-1):\n",
    "    if data[i] != data[i+1]:\n",
    "        if data[i+1] == '1':\n",
    "            count0 += 1\n",
    "        else:\n",
    "            count += 1\n",
    "            \n",
    "print(min (count0, count1))"
   ]
  },
  {
   "cell_type": "markdown",
   "id": "156d3b41",
   "metadata": {},
   "source": [
    "> 소요시간 : 25 minutes  \n",
    "> 접근법이 처음으로 동일! :)"
   ]
  },
  {
   "cell_type": "markdown",
   "id": "8e3c18c9",
   "metadata": {},
   "source": [
    "### 04 만들 수 없는 금액"
   ]
  },
  {
   "cell_type": "code",
   "execution_count": 1,
   "id": "89537992",
   "metadata": {
    "scrolled": true
   },
   "outputs": [
    {
     "name": "stdout",
     "output_type": "stream",
     "text": [
      "5\n",
      "3 2 1 1 9\n",
      "8\n"
     ]
    }
   ],
   "source": [
    "n =int(input())\n",
    "numbers = list(map(int, input().split()))\n",
    "\n",
    "numbers.sort()\n",
    "\n",
    "target = 1\n",
    "\n",
    "for x in numbers:\n",
    "    if target < x:\n",
    "        break\n",
    "    target += x\n",
    "\n",
    "print(target)"
   ]
  },
  {
   "cell_type": "markdown",
   "id": "b39fb38e",
   "metadata": {},
   "source": [
    "> 소요시간 : 40 minutes 초과  \n",
    "> 접근법을 생각할 때 체계적으로 정리해서 축약할 수 있는 방법을 찾는 것이 중요함."
   ]
  },
  {
   "cell_type": "markdown",
   "id": "64b8c530",
   "metadata": {},
   "source": [
    "### 05 볼링공 고르기"
   ]
  },
  {
   "cell_type": "code",
   "execution_count": 6,
   "id": "ed8603d9",
   "metadata": {
    "scrolled": true
   },
   "outputs": [
    {
     "name": "stdout",
     "output_type": "stream",
     "text": [
      "10 4\n",
      "1 4 2 4 3 3 2 1 4 1\n",
      "37\n"
     ]
    }
   ],
   "source": [
    "n, k = map(int, input().split())\n",
    "weights = list(map(int, input().split()))\n",
    "\n",
    "count = 0\n",
    "\n",
    "for i in range(len(weights)):\n",
    "    for j in range(len(weights)):\n",
    "        if weights[i] != weights[j]:\n",
    "            count += 1\n",
    "        \n",
    "print(int(count/2))"
   ]
  },
  {
   "cell_type": "markdown",
   "id": "847c0f8a",
   "metadata": {},
   "source": [
    "> 소요시간 : 8 minutes  \n",
    "> 해설과 접근법이 아예 다르다. 본인은 n, k를 전부 사용하지 않음. 작성한 답에 오류가 있는지 알아보아야 함."
   ]
  },
  {
   "cell_type": "markdown",
   "id": "93f73403",
   "metadata": {},
   "source": [
    "### 06 무지의 먹방 라이브"
   ]
  },
  {
   "cell_type": "code",
   "execution_count": 1,
   "id": "2a8784d7",
   "metadata": {},
   "outputs": [],
   "source": [
    "def solution(food_times, k):\n",
    "    answer = 0\n",
    "    count = 0\n",
    "    \n",
    "    for i in range(k):\n",
    "        if food_times[i%len(food_times)] == 0:\n",
    "            count += 1\n",
    "            continue\n",
    "        else:\n",
    "            food_times[i%len(food_times)] -= 1\n",
    "            count = 0\n",
    "            answer = (i%len(food_times)) + 1\n",
    "            \n",
    "        if count == 3:\n",
    "            answer = -1\n",
    "            break\n",
    "            \n",
    "    return answer"
   ]
  },
  {
   "cell_type": "markdown",
   "id": "b71bed71",
   "metadata": {},
   "source": [
    "> 소요시간 : 10 minutes  \n",
    "> 처음에 빠르게 작성한 답변이지만 예외도 존재하고 효율성 테스트도 낙제..."
   ]
  },
  {
   "cell_type": "code",
   "execution_count": 2,
   "id": "c334dcc8",
   "metadata": {},
   "outputs": [],
   "source": [
    "import heapq\n",
    "\n",
    "def solution(food_times, k):\n",
    "\n",
    "    if sum(food_times) <= k:\n",
    "        return -1\n",
    "\n",
    "    q = []\n",
    "    for i in range(len(food_times)):\n",
    "        heapq.heappush(q, (food_times[i], i+1))\n",
    "\n",
    "    sum_value = 0\n",
    "    previous = 0\n",
    "    length = len(food_times)\n",
    "\n",
    "    while sum_value + ((q[0][0] - previous) * length) <= k:\n",
    "        now = heapq.heappop(q)[0]\n",
    "        sum_value += (now - previous) * length\n",
    "        length -= 1\n",
    "        previous = now\n",
    "\n",
    "    result = sorted(q, key =lambda x: x[1])\n",
    "\n",
    "    return result[(k - sum_value) % length][1]"
   ]
  },
  {
   "cell_type": "markdown",
   "id": "2ec6fd11",
   "metadata": {},
   "source": [
    "> 소요시간 : none  \n",
    "> 참고하여 공부하고 있는 이코테의 코드를 클론코딩. heapq라는 라이브러리를 사용하여 큐를 구현, 사용.  \n",
    "> 클론코딩을 한 대신에 heapq 사용법에 대해 공부, 라이브러리를 사용하지 않은 다른 사람의 간단한 코드 읽어보기"
   ]
  }
 ],
 "metadata": {
  "kernelspec": {
   "display_name": "Python 3 (ipykernel)",
   "language": "python",
   "name": "python3"
  },
  "language_info": {
   "codemirror_mode": {
    "name": "ipython",
    "version": 3
   },
   "file_extension": ".py",
   "mimetype": "text/x-python",
   "name": "python",
   "nbconvert_exporter": "python",
   "pygments_lexer": "ipython3",
   "version": "3.9.12"
  }
 },
 "nbformat": 4,
 "nbformat_minor": 5
}

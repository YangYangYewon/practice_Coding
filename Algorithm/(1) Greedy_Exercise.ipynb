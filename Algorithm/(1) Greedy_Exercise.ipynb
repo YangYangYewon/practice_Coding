{
 "cells": [
  {
   "cell_type": "markdown",
   "id": "45200a9f",
   "metadata": {},
   "source": [
    "## 이것이 취업을 위한 코딩 테스트다(with python)"
   ]
  },
  {
   "cell_type": "markdown",
   "id": "71a4b5eb",
   "metadata": {},
   "source": [
    "### 01 모험가 길드"
   ]
  },
  {
   "cell_type": "code",
   "execution_count": 26,
   "id": "edb0de99",
   "metadata": {},
   "outputs": [
    {
     "name": "stdout",
     "output_type": "stream",
     "text": [
      "5\n",
      "2 3 1 2 2\n",
      "2\n"
     ]
    }
   ],
   "source": [
    "n = int(input())\n",
    "\n",
    "members = list(map(int, input().split()))\n",
    "members.sort()\n",
    "\n",
    "group = 0\n",
    "number = 0\n",
    "\n",
    "for i in members:\n",
    "    number += 1\n",
    "    if number >= i:\n",
    "        group += 1\n",
    "        number = 0\n",
    "    \n",
    "print(group)"
   ]
  },
  {
   "cell_type": "markdown",
   "id": "ab0c287b",
   "metadata": {},
   "source": [
    "> 소요시간 : 40 minutes"
   ]
  },
  {
   "cell_type": "markdown",
   "id": "c336b344",
   "metadata": {},
   "source": [
    "### 02 곱하기 혹은 더하기"
   ]
  },
  {
   "cell_type": "code",
   "execution_count": 58,
   "id": "9fcac80c",
   "metadata": {},
   "outputs": [
    {
     "name": "stdout",
     "output_type": "stream",
     "text": [
      "567\n",
      "210\n"
     ]
    }
   ],
   "source": [
    "s = input()\n",
    "\n",
    "first = int(s[0])\n",
    "\n",
    "for i in range(1, len(s)):\n",
    "    number = int(s[i])\n",
    "    if number <= 1 or first <= 1:\n",
    "        first += number\n",
    "    else:\n",
    "        first *= number\n",
    "    \n",
    "print(first)        "
   ]
  },
  {
   "cell_type": "markdown",
   "id": "60fa9e57",
   "metadata": {},
   "source": [
    "> 소요시간 : 25 minutes"
   ]
  },
  {
   "cell_type": "markdown",
   "id": "f7b733b9",
   "metadata": {},
   "source": [
    "### 03 문자열 뒤집기"
   ]
  },
  {
   "cell_type": "code",
   "execution_count": null,
   "id": "83408732",
   "metadata": {},
   "outputs": [],
   "source": []
  }
 ],
 "metadata": {
  "kernelspec": {
   "display_name": "Python 3 (ipykernel)",
   "language": "python",
   "name": "python3"
  },
  "language_info": {
   "codemirror_mode": {
    "name": "ipython",
    "version": 3
   },
   "file_extension": ".py",
   "mimetype": "text/x-python",
   "name": "python",
   "nbconvert_exporter": "python",
   "pygments_lexer": "ipython3",
   "version": "3.8.12"
  }
 },
 "nbformat": 4,
 "nbformat_minor": 5
}
